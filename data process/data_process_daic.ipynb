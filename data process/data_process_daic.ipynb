{
 "cells": [
  {
   "cell_type": "code",
   "execution_count": 1,
   "id": "973da70e",
   "metadata": {
    "pycharm": {
     "name": "#%%\n"
    }
   },
   "outputs": [],
   "source": [
    "import numpy as np\n",
    "import torch\n",
    "import librosa\n",
    "import pandas as pd\n",
    "import os\n",
    "import random"
   ]
  },
  {
   "cell_type": "code",
   "execution_count": null,
   "id": "887e8f0e",
   "metadata": {},
   "outputs": [],
   "source": [
    "import numpy as np\n",
    "import torch\n",
    "import librosa\n",
    "import pandas as pd\n",
    "import os\n",
    "import random\n",
    "dataset_path = r'Z:\\抑郁症\\DAIC-WOZ Database'\n",
    "folder_list = []\n",
    "audio_files = []\n",
    "audio_paths = []\n",
    "transcript_paths = []\n",
    "\n",
    "list_dir_dataset_path = os.listdir(dataset_path)\n",
    "list_dir_dataset_path.sort()\n",
    "for i in list_dir_dataset_path:\n",
    "    if i.endswith('_P'):\n",
    "        folder_list.append(i)\n",
    "        for j in os.listdir(os.path.join(dataset_path, i)):\n",
    "            if 'wav' in j:\n",
    "                audio_files.append(j)\n",
    "                audio_paths.append(os.path.join(dataset_path, i, j))\n",
    "            if 'TRANSCRIPT' in j:\n",
    "                if 'lock' in j or '._' in j:\n",
    "                    pass\n",
    "                else:\n",
    "                    transcript_paths.append(os.path.join(dataset_path, i, j)\n",
    "\n",
    "                    \n",
    "def raw_features(audio_file, transcript_path):\n",
    "    audio, sr = librosa.load(audio_file)\n",
    "    ID = os.path.split(audio_file)[-1].split('_')[0]\n",
    "    t_df = pd.read_csv(transcript_path, sep='\\t')     #DEPA\n",
    "    t_df = t_df[t_df.speaker=='Participant']\n",
    "    start_end = t_df.loc[:, ['start_time', 'stop_time']].values\n",
    "    win_length = int(100 * sr / 1000)\n",
    "    hop_length = win_length // 4\n",
    "    features = []\n",
    "    dur_time = []\n",
    "\n",
    "    for start, end in start_end: \n",
    "        dur_time.append(end-start)\n",
    "        if end - start < 5:\n",
    "            continue\n",
    "        xxx = audio[int(start * sr):int(end * sr)]\n",
    "#         print(len(xxx))\n",
    "        feature1 = librosa.feature.mfcc(y=xxx,\n",
    "                                   n_fft=win_length, \n",
    "                                   hop_length=hop_length).T + 1e-12\n",
    "        feature2 = librosa.feature.zero_crossing_rate(y=xxx,\n",
    "                                       frame_length=win_length, \n",
    "                                       hop_length=hop_length).T + 1e-12\n",
    "        feature3 = librosa.feature.chroma_cqt(y=xxx,\n",
    "                                             sr = sr,\n",
    "                                             hop_length=hop_length).T + 1e-12\n",
    "#         if feature1.shape[0]==feature2.shape[0]==feature3.shape[0]:\n",
    "        feature = np.concatenate([feature1[:200, :],feature2[:200, :], \n",
    "                                  feature3[:200, :]],axis = 1)\n",
    "        features.append(feature)\n",
    "        \n",
    "    return ID, features, dur_time\n",
    "\n",
    "all_feature = []\n",
    "k = []\n",
    "flod_name = []\n",
    "dur_time = []\n",
    "for i in range(len(audio_files)):\n",
    "    print(\"{}================\".format(i))\n",
    "    flod, features, times = raw_features(audio_paths[i], transcript_paths[i])\n",
    "    k.append(len(features))\n",
    "    all_feature.append(features)\n",
    "    flod_name.append(flod)\n",
    "    dur_time.append(times)\n",
    "    print(\"num of {} is {}\".format(i, len(features)))\n",
    "    \n",
    "path = r\"C:\\Users\\sun\\Desktop\\models\\features\"\n",
    "np.save(os.path.join(path, 'all_features'), all_feature)\n",
    "np.save(os.path.join(path, 'flod_name'), flod_name)"
   ]
  },
  {
   "cell_type": "code",
   "execution_count": 8,
   "id": "b4cb4fbc",
   "metadata": {
    "pycharm": {
     "name": "#%%\n"
    }
   },
   "outputs": [],
   "source": [
    "all_feature = np.load(r'C:\\Users\\sun\\Desktop\\models\\features\\all_features_30s.npy', allow_pickle=True)\n",
    "flod_name = np.load(r'C:\\Users\\sun\\Desktop\\models\\features\\flod_name.npy', allow_pickle=True)"
   ]
  },
  {
   "cell_type": "code",
   "execution_count": null,
   "id": "5261907c",
   "metadata": {},
   "outputs": [],
   "source": [
    "df = pd.read_csv(r'Z:\\抑郁症\\DAIC-WOZ Database\\all_labels.csv') "
   ]
  },
  {
   "cell_type": "code",
   "execution_count": 4,
   "id": "edca20d7",
   "metadata": {
    "pycharm": {
     "name": "#%%\n"
    }
   },
   "outputs": [
    {
     "data": {
      "text/plain": [
       "189"
      ]
     },
     "execution_count": 4,
     "metadata": {},
     "output_type": "execute_result"
    }
   ],
   "source": [
    "n = 0\n",
    "for i in range(len(flod_name)):\n",
    "    if flod_name[i] == str(df['ids'][i]):\n",
    "        n += 1\n",
    "n"
   ]
  },
  {
   "cell_type": "code",
   "execution_count": 5,
   "id": "08449c5a",
   "metadata": {
    "pycharm": {
     "name": "#%%\n"
    }
   },
   "outputs": [],
   "source": [
    "from imblearn.under_sampling import ClusterCentroids\n",
    "from imblearn.under_sampling import RandomUnderSampler\n",
    "\n",
    "data1 = []\n",
    "data2 = []\n",
    "data3 = []\n",
    "label1 = []\n",
    "label2 = []\n",
    "label3 = []\n",
    "k = 0\n",
    "\n",
    "for i in range(len(flod_name)):\n",
    "    if flod_name[i] == '385':\n",
    "        continue\n",
    "    \n",
    "    x = all_feature[i]\n",
    "    y = df['label'][i]\n",
    "    \n",
    "    if df['flod'][i] == 'train':\n",
    "        for j in range(len(x)):\n",
    "            xx = x[j][:200, :]\n",
    "            data1.append(xx)\n",
    "            label1.append(y)\n",
    "            \n",
    "    elif df['flod'][i] == 'val':\n",
    "        for j in range(len(x)):\n",
    "            xx = x[j][:200, :]\n",
    "            data2.append(xx)\n",
    "            label2.append(y)\n",
    "        \n",
    "    elif df['flod'][i] == 'test':\n",
    "        for j in range(len(x)):\n",
    "            xx = x[j][:200, :]\n",
    "            data3.append(xx)\n",
    "            label3.append(y)\n",
    "        \n",
    "data1 = np.array(data1)\n",
    "data2 = np.array(data2)\n",
    "data3 = np.array(data3)"
   ]
  },
  {
   "cell_type": "code",
   "execution_count": null,
   "id": "ffc0a50b",
   "metadata": {},
   "outputs": [],
   "source": [
    "all_data = []\n",
    "all_label = []\n",
    "\n",
    "xx = data1.reshape(data1.shape[0], -1)\n",
    "cc = RandomUnderSampler(random_state=42)\n",
    "x, y = cc.fit_resample(xx, label1)\n",
    "x = x.reshape(-1, data1.shape[1], data1.shape[2])\n",
    "for i in range(len(x)):\n",
    "    all_data.append(x[i])\n",
    "    all_label.append(y[i])\n",
    "    \n",
    "xx = data2.reshape(data2.shape[0], -1)\n",
    "cc = RandomUnderSampler(random_state=42)\n",
    "x, y = cc.fit_resample(xx, label2)\n",
    "x = x.reshape(-1, data2.shape[1], data2.shape[2])\n",
    "for i in range(len(x)):\n",
    "    all_data.append(x[i])\n",
    "    all_label.append(y[i])\n",
    "\n",
    "xx = data3.reshape(data3.shape[0], -1)\n",
    "cc = RandomUnderSampler(random_state=42)\n",
    "x, y = cc.fit_resample(xx, label3)\n",
    "x = x.reshape(-1, data3.shape[1], data3.shape[2])\n",
    "for i in range(len(x)):\n",
    "    all_data.append(x[i])\n",
    "    all_label.append(y[i])"
   ]
  },
  {
   "cell_type": "code",
   "execution_count": 13,
   "id": "7c44781f",
   "metadata": {
    "pycharm": {
     "name": "#%%\n"
    }
   },
   "outputs": [],
   "source": [
    "path = r\"C:\\Users\\sun\\Desktop\\models\\features\"\n",
    "np.save(os.path.join(path, 'all_data_daic'), all_data)\n",
    "np.save(os.path.join(path, 'all_label_daic'), all_label)"
   ]
  },
  {
   "cell_type": "code",
   "execution_count": 141,
   "id": "23017d8b",
   "metadata": {
    "pycharm": {
     "name": "#%%\n"
    }
   },
   "outputs": [],
   "source": []
  },
  {
   "cell_type": "code",
   "execution_count": null,
   "id": "0d6e48ba",
   "metadata": {
    "pycharm": {
     "name": "#%%\n"
    }
   },
   "outputs": [],
   "source": []
  }
 ],
 "metadata": {
  "kernelspec": {
   "display_name": "GMT",
   "language": "python",
   "name": "gmt"
  },
  "language_info": {
   "codemirror_mode": {
    "name": "ipython",
    "version": 3
   },
   "file_extension": ".py",
   "mimetype": "text/x-python",
   "name": "python",
   "nbconvert_exporter": "python",
   "pygments_lexer": "ipython3",
   "version": "3.8.13"
  }
 },
 "nbformat": 4,
 "nbformat_minor": 5
}
