{
 "cells": [
  {
   "cell_type": "code",
   "execution_count": 1,
   "id": "3653c452",
   "metadata": {
    "pycharm": {
     "name": "#%%\n"
    }
   },
   "outputs": [],
   "source": [
    "import numpy as np\n",
    "import torch\n",
    "import librosa\n",
    "import pandas as pd\n",
    "import os\n",
    "import random"
   ]
  },
  {
   "cell_type": "code",
   "execution_count": 2,
   "id": "9aa332bb",
   "metadata": {
    "pycharm": {
     "name": "#%%\n"
    }
   },
   "outputs": [
    {
     "data": {
      "text/html": [
       "<div>\n",
       "<style scoped>\n",
       "    .dataframe tbody tr th:only-of-type {\n",
       "        vertical-align: middle;\n",
       "    }\n",
       "\n",
       "    .dataframe tbody tr th {\n",
       "        vertical-align: top;\n",
       "    }\n",
       "\n",
       "    .dataframe thead th {\n",
       "        text-align: right;\n",
       "    }\n",
       "</style>\n",
       "<table border=\"1\" class=\"dataframe\">\n",
       "  <thead>\n",
       "    <tr style=\"text-align: right;\">\n",
       "      <th></th>\n",
       "      <th>subject id</th>\n",
       "      <th>type</th>\n",
       "      <th>age</th>\n",
       "      <th>gender</th>\n",
       "      <th>education（years）</th>\n",
       "      <th>PHQ-9</th>\n",
       "      <th>CTQ-SF</th>\n",
       "      <th>LES</th>\n",
       "      <th>SSRS</th>\n",
       "      <th>GAD-7</th>\n",
       "      <th>PSQI</th>\n",
       "    </tr>\n",
       "  </thead>\n",
       "  <tbody>\n",
       "    <tr>\n",
       "      <th>0</th>\n",
       "      <td>2010002</td>\n",
       "      <td>MDD</td>\n",
       "      <td>18</td>\n",
       "      <td>F</td>\n",
       "      <td>12</td>\n",
       "      <td>23</td>\n",
       "      <td>77</td>\n",
       "      <td>-143</td>\n",
       "      <td>31</td>\n",
       "      <td>18</td>\n",
       "      <td>12</td>\n",
       "    </tr>\n",
       "    <tr>\n",
       "      <th>1</th>\n",
       "      <td>2010004</td>\n",
       "      <td>MDD</td>\n",
       "      <td>25</td>\n",
       "      <td>F</td>\n",
       "      <td>19</td>\n",
       "      <td>12</td>\n",
       "      <td>53</td>\n",
       "      <td>-44</td>\n",
       "      <td>38</td>\n",
       "      <td>13</td>\n",
       "      <td>11</td>\n",
       "    </tr>\n",
       "    <tr>\n",
       "      <th>2</th>\n",
       "      <td>2010005</td>\n",
       "      <td>MDD</td>\n",
       "      <td>20</td>\n",
       "      <td>M</td>\n",
       "      <td>16</td>\n",
       "      <td>19</td>\n",
       "      <td>49</td>\n",
       "      <td>-3</td>\n",
       "      <td>28</td>\n",
       "      <td>11</td>\n",
       "      <td>5</td>\n",
       "    </tr>\n",
       "    <tr>\n",
       "      <th>3</th>\n",
       "      <td>2010006</td>\n",
       "      <td>MDD</td>\n",
       "      <td>42</td>\n",
       "      <td>M</td>\n",
       "      <td>16</td>\n",
       "      <td>16</td>\n",
       "      <td>59</td>\n",
       "      <td>-30</td>\n",
       "      <td>40</td>\n",
       "      <td>12</td>\n",
       "      <td>9</td>\n",
       "    </tr>\n",
       "    <tr>\n",
       "      <th>4</th>\n",
       "      <td>2010008</td>\n",
       "      <td>MDD</td>\n",
       "      <td>42</td>\n",
       "      <td>M</td>\n",
       "      <td>12</td>\n",
       "      <td>17</td>\n",
       "      <td>66</td>\n",
       "      <td>-71</td>\n",
       "      <td>44</td>\n",
       "      <td>18</td>\n",
       "      <td>13</td>\n",
       "    </tr>\n",
       "  </tbody>\n",
       "</table>\n",
       "</div>"
      ],
      "text/plain": [
       "   subject id type  age gender  education（years）  PHQ-9  CTQ-SF  LES  SSRS  \\\n",
       "0     2010002  MDD   18      F                12     23      77 -143    31   \n",
       "1     2010004  MDD   25      F                19     12      53  -44    38   \n",
       "2     2010005  MDD   20      M                16     19      49   -3    28   \n",
       "3     2010006  MDD   42      M                16     16      59  -30    40   \n",
       "4     2010008  MDD   42      M                12     17      66  -71    44   \n",
       "\n",
       "   GAD-7  PSQI  \n",
       "0     18    12  \n",
       "1     13    11  \n",
       "2     11     5  \n",
       "3     12     9  \n",
       "4     18    13  "
      ]
     },
     "execution_count": 2,
     "metadata": {},
     "output_type": "execute_result"
    }
   ],
   "source": [
    "df = pd.read_excel(r'Z:\\MODMA\\audio_lanzhou_2015\\labels.xlsx')\n",
    "df.head()"
   ]
  },
  {
   "cell_type": "code",
   "execution_count": 3,
   "id": "e6b0aa8f",
   "metadata": {
    "pycharm": {
     "name": "#%%\n"
    }
   },
   "outputs": [
    {
     "data": {
      "text/plain": [
       "52"
      ]
     },
     "execution_count": 3,
     "metadata": {},
     "output_type": "execute_result"
    }
   ],
   "source": [
    "label = []\n",
    "file = []\n",
    "path_dir = r'Z:\\MODMA\\audio_lanzhou_2015'\n",
    "a = df['subject id']\n",
    "b = df['type']\n",
    "for i in range(len(b)):\n",
    "    file.append('0'+str(a[i]))\n",
    "    if b[i] == 'MDD':\n",
    "        label.append(1)\n",
    "    else:\n",
    "        label.append(0)\n",
    "len(label)"
   ]
  },
  {
   "cell_type": "code",
   "execution_count": 4,
   "id": "669721d1",
   "metadata": {
    "pycharm": {
     "name": "#%%\n"
    }
   },
   "outputs": [],
   "source": [
    "def audio_pad(audio, sr):\n",
    "    n = len(audio)\n",
    "    m = sr*6\n",
    "    if n < m:\n",
    "        audio = np.pad(audio, (0,m-n), 'constant')\n",
    "    return audio\n",
    "\n",
    "def raw_features(audio_file):\n",
    "    audio, sr = librosa.load(audio_file)\n",
    "    audio = audio_pad(audio, sr)\n",
    "    win_length = int(100 * sr / 1000)\n",
    "    hop_length = win_length // 4\n",
    "\n",
    "    feature1 = librosa.feature.mfcc(y=audio,\n",
    "                               n_fft=win_length, \n",
    "                               hop_length=hop_length).T + 1e-12\n",
    "    feature2 = librosa.feature.zero_crossing_rate(y=audio,\n",
    "                                   frame_length=win_length, \n",
    "                                   hop_length=hop_length).T + 1e-12\n",
    "    feature3 = librosa.feature.chroma_cqt(y=audio,\n",
    "                                         sr = sr,\n",
    "                                         hop_length=hop_length).T + 1e-12\n",
    "#     if feature1.shape[0]==feature2.shape[0]==feature3.shape[0]:\n",
    "    feature = np.concatenate([feature1[:200,:], feature2[:200,:], \n",
    "                              feature3[:200,:]],axis = 1)\n",
    "        \n",
    "    return feature"
   ]
  },
  {
   "cell_type": "code",
   "execution_count": null,
   "id": "e8c23cdd",
   "metadata": {},
   "outputs": [],
   "source": [
    "all_feature = []\n",
    "all_label = []\n",
    "\n",
    "for i in range(len(file)):\n",
    "    path = os.path.join(path_dir, file[i])\n",
    "    name = os.listdir(os.path.join(path_dir, file[i]))\n",
    "    for j in range(len(name)):\n",
    "        try:\n",
    "            feature = raw_features(os.path.join(path, name[j]))\n",
    "        except:\n",
    "            print(\"{}  {} 文件存在异常\".format(path, name[j]))\n",
    "        else:\n",
    "            all_feature.append(feature)\n",
    "            all_label.append(label[i])\n",
    "            print(\"shape of {}  {} is {}\".format(path, name[j], feature.shape))\n",
    "            print(\"label is {}\", label[i])"
   ]
  },
  {
   "cell_type": "code",
   "execution_count": 6,
   "id": "c51403a4",
   "metadata": {
    "pycharm": {
     "name": "#%%\n"
    }
   },
   "outputs": [],
   "source": [
    "path = r\"C:\\Users\\sun\\Desktop\\models\\features\\MODMA\\all_data_25s\"\n",
    "np.save(os.path.join(path, 'all_features'), all_feature)\n",
    "np.save(os.path.join(path, 'all_label'), all_label)"
   ]
  },
  {
   "cell_type": "code",
   "execution_count": 7,
   "id": "b5125413",
   "metadata": {
    "pycharm": {
     "name": "#%%\n"
    }
   },
   "outputs": [
    {
     "name": "stdout",
     "output_type": "stream",
     "text": [
      "1503\n",
      "1503\n"
     ]
    }
   ],
   "source": [
    "print(len(all_feature))\n",
    "print(len(all_label))"
   ]
  },
  {
   "cell_type": "code",
   "execution_count": 8,
   "id": "f4dc2790",
   "metadata": {
    "pycharm": {
     "name": "#%%\n"
    }
   },
   "outputs": [],
   "source": [
    "all_data = []\n",
    "for i in range(len(all_feature)):\n",
    "    all_data.append(all_feature[i][0:200, :])"
   ]
  },
  {
   "cell_type": "code",
   "execution_count": 9,
   "id": "bbae8a6c",
   "metadata": {
    "pycharm": {
     "name": "#%%\n"
    }
   },
   "outputs": [],
   "source": [
    "path = r\"C:\\Users\\sun\\Desktop\\models\\features\\MODMA\"\n",
    "np.save(os.path.join(path, 'all_data_MODMA'), all_data)\n",
    "np.save(os.path.join(path, 'all_label_MODMA'), all_label)"
   ]
  },
  {
   "cell_type": "code",
   "execution_count": null,
   "id": "749666c6",
   "metadata": {
    "pycharm": {
     "is_executing": true,
     "name": "#%%\n"
    }
   },
   "outputs": [],
   "source": []
  },
  {
   "cell_type": "code",
   "execution_count": null,
   "id": "2eaebe28",
   "metadata": {
    "pycharm": {
     "name": "#%%\n"
    }
   },
   "outputs": [],
   "source": []
  },
  {
   "cell_type": "code",
   "execution_count": null,
   "id": "9262c00f",
   "metadata": {
    "pycharm": {
     "name": "#%%\n"
    }
   },
   "outputs": [],
   "source": []
  }
 ],
 "metadata": {
  "kernelspec": {
   "display_name": "GMT",
   "language": "python",
   "name": "gmt"
  },
  "language_info": {
   "codemirror_mode": {
    "name": "ipython",
    "version": 3
   },
   "file_extension": ".py",
   "mimetype": "text/x-python",
   "name": "python",
   "nbconvert_exporter": "python",
   "pygments_lexer": "ipython3",
   "version": "3.8.13"
  }
 },
 "nbformat": 4,
 "nbformat_minor": 5
}
